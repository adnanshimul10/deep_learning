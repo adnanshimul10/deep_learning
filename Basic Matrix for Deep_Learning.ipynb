{
 "cells": [
  {
   "cell_type": "code",
   "execution_count": 1,
   "id": "1fa6e398",
   "metadata": {},
   "outputs": [],
   "source": [
    "import numpy as np"
   ]
  },
  {
   "cell_type": "markdown",
   "id": "09b10756",
   "metadata": {},
   "source": [
    "# Calculate the profite/loss from revenue and expense"
   ]
  },
  {
   "cell_type": "code",
   "execution_count": 2,
   "id": "477ed360",
   "metadata": {},
   "outputs": [
    {
     "data": {
      "text/plain": [
       "array([[100, 110,  20],\n",
       "       [ 14,  20,  20],\n",
       "       [  4,  18,  10]])"
      ]
     },
     "execution_count": 2,
     "metadata": {},
     "output_type": "execute_result"
    }
   ],
   "source": [
    "revenue = np.array([[180, 200, 220], [24, 36, 40], [12, 28, 20]])\n",
    "expenses = np.array([[80, 90, 200], [10, 16, 20], [8, 10, 10]])\n",
    "\n",
    "profite = revenue-expenses\n",
    "profite"
   ]
  },
  {
   "cell_type": "markdown",
   "id": "f8524c61",
   "metadata": {},
   "source": [
    "# Calculate total sales from units and price per unit using matrix multiplication and using numpy broadcasting"
   ]
  },
  {
   "cell_type": "code",
   "execution_count": 3,
   "id": "d9505e63",
   "metadata": {},
   "outputs": [
    {
     "data": {
      "text/plain": [
       "array([[30000, 16000, 60000],\n",
       "       [ 5000,  4000, 18000],\n",
       "       [ 2000,  2000,  8400]])"
      ]
     },
     "execution_count": 3,
     "metadata": {},
     "output_type": "execute_result"
    }
   ],
   "source": [
    "price_per_unit = np.array([1000, 400, 1200])\n",
    "units = np.array([[30, 40, 50], [5, 10, 15], [2, 5, 7]])\n",
    "price_per_unit*units"
   ]
  },
  {
   "cell_type": "markdown",
   "id": "d8ee6e50",
   "metadata": {},
   "source": [
    "# Numpy dot product"
   ]
  },
  {
   "cell_type": "code",
   "execution_count": 4,
   "id": "e69ce383",
   "metadata": {},
   "outputs": [
    {
     "data": {
      "text/plain": [
       "array([34400, 50000, 64400])"
      ]
     },
     "execution_count": 4,
     "metadata": {},
     "output_type": "execute_result"
    }
   ],
   "source": [
    "np.dot(price_per_unit, units)"
   ]
  },
  {
   "cell_type": "code",
   "execution_count": null,
   "id": "7dfc5e5b",
   "metadata": {},
   "outputs": [],
   "source": []
  }
 ],
 "metadata": {
  "kernelspec": {
   "display_name": "Python 3 (ipykernel)",
   "language": "python",
   "name": "python3"
  },
  "language_info": {
   "codemirror_mode": {
    "name": "ipython",
    "version": 3
   },
   "file_extension": ".py",
   "mimetype": "text/x-python",
   "name": "python",
   "nbconvert_exporter": "python",
   "pygments_lexer": "ipython3",
   "version": "3.9.13"
  }
 },
 "nbformat": 4,
 "nbformat_minor": 5
}
